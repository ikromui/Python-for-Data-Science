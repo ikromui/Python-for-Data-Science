{
 "cells": [
  {
   "cell_type": "markdown",
   "metadata": {},
   "source": [
    "# CLASS TESTING\n",
    "\n",
    "A notebook to test the classes used in process_database.rb ."
   ]
  },
  {
   "cell_type": "code",
   "execution_count": 1,
   "metadata": {},
   "outputs": [
    {
     "data": {
      "text/plain": [
       "true"
      ]
     },
     "execution_count": 1,
     "metadata": {},
     "output_type": "execute_result"
    }
   ],
   "source": [
    "require './seed_stock.rb'\n",
    "require './gene_object.rb'\n",
    "require './cross_object.rb'"
   ]
  },
  {
   "cell_type": "markdown",
   "metadata": {},
   "source": [
    "## Class Gene (gene_object.rb)"
   ]
  },
  {
   "cell_type": "markdown",
   "metadata": {},
   "source": [
    "The following code test the loading of files.\n",
    "\n",
    "If gene ids matches the arabidopsis gene id format, #load_from_file(path) return a list of the instances created.\n",
    "\n",
    "If some gene id does not match, then it returns an error and stop the code. \n"
   ]
  },
  {
   "cell_type": "code",
   "execution_count": 2,
   "metadata": {},
   "outputs": [
    {
     "data": {
      "text/plain": [
       "[#<Gene:0x00007fc3011d1840 @gene_id=\"AT1G69120\", @gene_name=\"ap1\", @mutant_phenotype=\"\\\"meristems replace first and second whorl\\\"\", @linked_genes=false>, #<Gene:0x00007fc3011d1570 @gene_id=\"AT4G36920\", @gene_name=\"ap2\", @mutant_phenotype=\"\\\"first whorl carpels, second whorl stamens\\\"\", @linked_genes=false>, #<Gene:0x00007fc3011d12c8 @gene_id=\"AT3G54340\", @gene_name=\"ap3\", @mutant_phenotype=\"\\\"second whorl sepals, third whorl carpels\\\"\", @linked_genes=false>, #<Gene:0x00007fc3011d1020 @gene_id=\"AT1G30950\", @gene_name=\"ufo\", @mutant_phenotype=\"\\\"second whorl sepaloidy, third whorl missing or carpeloid\\\"\", @linked_genes=false>, #<Gene:0x00007fc3011d0d78 @gene_id=\"AT5G20240\", @gene_name=\"pi\", @mutant_phenotype=\"\\\"second whorl sepals, third whorl carpels\\\"\", @linked_genes=false>, #<Gene:0x00007fc3011d0aa8 @gene_id=\"AT0G00000\", @gene_name=\"ex\", @mutant_phenotype=\"\\\"example to test when more than two genes are linked\\\"\", @linked_genes=false>]"
      ]
     },
     "execution_count": 2,
     "metadata": {},
     "output_type": "execute_result"
    }
   ],
   "source": [
    "path = 'gene_information.tsv'\n",
    "Gene.load_from_file(path)"
   ]
  },
  {
   "cell_type": "code",
   "execution_count": 3,
   "metadata": {},
   "outputs": [
    {
     "name": "stderr",
     "output_type": "stream",
     "text": [
      "\n",
      "Error: Gene ID AT4U36920 doesn't match Arabidopsis format, please try again with this format AT0G00000.\n"
     ]
    }
   ],
   "source": [
    "path2 = 'gene_info_wrong_id.tsv'\n",
    "Gene.load_from_file(path2)"
   ]
  },
  {
   "cell_type": "markdown",
   "metadata": {},
   "source": [
    "We can also get the instances from the gene id."
   ]
  },
  {
   "cell_type": "code",
   "execution_count": 4,
   "metadata": {},
   "outputs": [
    {
     "data": {
      "text/plain": [
       "#<Gene:0x00007fc3010a51d8 @gene_id=\"AT5G20240\", @gene_name=\"pi\", @mutant_phenotype=\"\\\"second whorl sepals, third whorl carpels\\\"\", @linked_genes=false>"
      ]
     },
     "execution_count": 4,
     "metadata": {},
     "output_type": "execute_result"
    }
   ],
   "source": [
    "path = 'gene_information.tsv'\n",
    "Gene.load_from_file(path)\n",
    "Gene.get_gene_info('AT5G20240')"
   ]
  },
  {
   "cell_type": "markdown",
   "metadata": {},
   "source": [
    "## Class SeedStock (seed_stock.rb)"
   ]
  },
  {
   "cell_type": "markdown",
   "metadata": {},
   "source": [
    "SeedStock instances are linked to Gene Class through the gene id, so we need to load the gene object first. \n",
    "\n",
    "As before, it returns a list of instances loaded from the seed stock database."
   ]
  },
  {
   "cell_type": "code",
   "execution_count": 5,
   "metadata": {},
   "outputs": [
    {
     "data": {
      "text/plain": [
       "[#<SeedStock:0x00007fc3010d74d0 @seed_stock=\"A334\", @mutant_gene_id=#<Gene:0x00007fc3010cfa00 @gene_id=\"AT1G69120\", @gene_name=\"ap1\", @mutant_phenotype=\"\\\"meristems replace first and second whorl\\\"\", @linked_genes=false>, @last_planted=\"5/7/2014\", @storage=\"cama2\", @grams_remaining=\"28\">, #<SeedStock:0x00007fc3010d6aa8 @seed_stock=\"A348\", @mutant_gene_id=#<Gene:0x00007fc3010cebf0 @gene_id=\"AT4G36920\", @gene_name=\"ap2\", @mutant_phenotype=\"\\\"first whorl carpels, second whorl stamens\\\"\", @linked_genes=false>, @last_planted=\"3/11/2013\", @storage=\"cama25\", @grams_remaining=\"12\">, #<SeedStock:0x00007fc3010d5ce8 @seed_stock=\"B3334\", @mutant_gene_id=#<Gene:0x00007fc3010ce600 @gene_id=\"AT3G54340\", @gene_name=\"ap3\", @mutant_phenotype=\"\\\"second whorl sepals, third whorl carpels\\\"\", @linked_genes=false>, @last_planted=\"1/12/2014\", @storage=\"cama18\", @grams_remaining=\"22\">, #<SeedStock:0x00007fc3010d47f8 @seed_stock=\"A51\", @mutant_gene_id=#<Gene:0x00007fc3010ce100 @gene_id=\"AT1G30950\", @gene_name=\"ufo\", @mutant_phenotype=\"\\\"second whorl sepaloidy, third whorl missing or carpeloid\\\"\", @linked_genes=false>, @last_planted=\"9/2/2013\", @storage=\"cama25\", @grams_remaining=\"5\">, #<SeedStock:0x00007fc300955bf8 @seed_stock=\"B52\", @mutant_gene_id=#<Gene:0x00007fc3010cd908 @gene_id=\"AT5G20240\", @gene_name=\"pi\", @mutant_phenotype=\"\\\"second whorl sepals, third whorl carpels\\\"\", @linked_genes=false>, @last_planted=\"8/11/2012\", @storage=\"cama16\", @grams_remaining=\"7\">, #<SeedStock:0x00007fc300957340 @seed_stock=\"B53\", @mutant_gene_id=#<Gene:0x00007fc3010cd250 @gene_id=\"AT0G00000\", @gene_name=\"ex\", @mutant_phenotype=\"\\\"example to test when more than two genes are linked\\\"\", @linked_genes=false>, @last_planted=\"17/10/2019\", @storage=\"cama00\", @grams_remaining=\"10\">]"
      ]
     },
     "execution_count": 5,
     "metadata": {},
     "output_type": "execute_result"
    }
   ],
   "source": [
    "path1 = 'gene_information.tsv'\n",
    "Gene.load_from_file(path1)\n",
    "path2 = 'seed_stock_data.tsv'\n",
    "SeedStock.load_from_file(path2)"
   ]
  },
  {
   "cell_type": "markdown",
   "metadata": {},
   "source": [
    "### #get_seed_stock(id)\n",
    "\n",
    "We can also get the seed stock information using the stock id. If id is not found it returns an error."
   ]
  },
  {
   "cell_type": "code",
   "execution_count": 6,
   "metadata": {},
   "outputs": [
    {
     "data": {
      "text/plain": [
       "#<SeedStock:0x00007fc3010d74d0 @seed_stock=\"A334\", @mutant_gene_id=#<Gene:0x00007fc3010cfa00 @gene_id=\"AT1G69120\", @gene_name=\"ap1\", @mutant_phenotype=\"\\\"meristems replace first and second whorl\\\"\", @linked_genes=false>, @last_planted=\"5/7/2014\", @storage=\"cama2\", @grams_remaining=\"28\">"
      ]
     },
     "execution_count": 6,
     "metadata": {},
     "output_type": "execute_result"
    }
   ],
   "source": [
    "SeedStock.get_seed_stock('A334')"
   ]
  },
  {
   "cell_type": "code",
   "execution_count": 7,
   "metadata": {},
   "outputs": [
    {
     "name": "stderr",
     "output_type": "stream",
     "text": [
      "Error: seed stock id not found in database, please try again.\n"
     ]
    }
   ],
   "source": [
    "SeedStock.get_seed_stock('AXXX')"
   ]
  },
  {
   "cell_type": "markdown",
   "metadata": {},
   "source": [
    "Another method of the class SeedStock allows us to plant a specific number of seeds in a selected seed stock. It shows a message when we run out of seeds."
   ]
  },
  {
   "cell_type": "code",
   "execution_count": 8,
   "metadata": {},
   "outputs": [
    {
     "name": "stdout",
     "output_type": "stream",
     "text": [
      "Warning: we have run out of Seed Stock A334.\n"
     ]
    }
   ],
   "source": [
    "SeedStock.plant('A334', 28)"
   ]
  },
  {
   "cell_type": "markdown",
   "metadata": {},
   "source": [
    "It is also possible to plant the same number of seeds for all stocks at the same time."
   ]
  },
  {
   "cell_type": "code",
   "execution_count": 9,
   "metadata": {},
   "outputs": [
    {
     "name": "stdout",
     "output_type": "stream",
     "text": [
      "Warning: we have run out of Seed Stock A51.\n",
      "Warning: we have run out of Seed Stock B52.\n"
     ]
    },
    {
     "data": {
      "text/plain": [
       "[nil, nil, nil, nil, nil, nil]"
      ]
     },
     "execution_count": 9,
     "metadata": {},
     "output_type": "execute_result"
    }
   ],
   "source": [
    "objs = SeedStock.load_from_file(path2)\n",
    "objs.map { |obj| SeedStock.plant(obj.seed_stock, 7) }"
   ]
  },
  {
   "cell_type": "markdown",
   "metadata": {},
   "source": [
    "### #write_database(fname_out)\n",
    "\n",
    "Lastly, we can save the updated database to a new file."
   ]
  },
  {
   "cell_type": "code",
   "execution_count": 10,
   "metadata": {},
   "outputs": [
    {
     "name": "stdout",
     "output_type": "stream",
     "text": [
      "\n",
      "Succes! new_data_test.tsv added to /Users/claudiabdm/Documents/GitHub/CBDM_BioInfoChallenges/Assingment 1\n",
      "\n"
     ]
    }
   ],
   "source": [
    "SeedStock.write_database('new_data_test.tsv')"
   ]
  },
  {
   "cell_type": "code",
   "execution_count": 11,
   "metadata": {},
   "outputs": [
    {
     "name": "stdout",
     "output_type": "stream",
     "text": [
      "Seed_Stock\tMutant_Gene_ID\tLast_Planted\tStorage\tGrams_Remaining\n",
      "\n",
      "A334\tAT1G69120\t30/10/2019\tcama2\t21\n",
      "\n",
      "A348\tAT4G36920\t30/10/2019\tcama25\t5\n",
      "\n",
      "B3334\tAT3G54340\t30/10/2019\tcama18\t15\n",
      "\n",
      "A51\tAT1G30950\t30/10/2019\tcama25\t0\n",
      "\n",
      "B52\tAT5G20240\t30/10/2019\tcama16\t0\n",
      "\n",
      "B53\tAT0G00000\t30/10/2019\tcama00\t3\n",
      "\n"
     ]
    },
    {
     "data": {
      "text/plain": [
       "[\"Seed_Stock\\tMutant_Gene_ID\\tLast_Planted\\tStorage\\tGrams_Remaining\\n\", \"A334\\tAT1G69120\\t30/10/2019\\tcama2\\t21\\n\", \"A348\\tAT4G36920\\t30/10/2019\\tcama25\\t5\\n\", \"B3334\\tAT3G54340\\t30/10/2019\\tcama18\\t15\\n\", \"A51\\tAT1G30950\\t30/10/2019\\tcama25\\t0\\n\", \"B52\\tAT5G20240\\t30/10/2019\\tcama16\\t0\\n\", \"B53\\tAT0G00000\\t30/10/2019\\tcama00\\t3\\n\"]"
      ]
     },
     "execution_count": 11,
     "metadata": {},
     "output_type": "execute_result"
    }
   ],
   "source": [
    "File.readlines('new_data_test.tsv').each{ |line| puts line }"
   ]
  },
  {
   "cell_type": "markdown",
   "metadata": {},
   "source": [
    "## Class HybridCross (cross_data.rb)"
   ]
  },
  {
   "cell_type": "markdown",
   "metadata": {},
   "source": [
    "HybridCross instances are linked to SeedStock Class through the seed stock id, so we need to load the gene and seed stock objects first.\n",
    "\n",
    "As before, it returns a list of instances loaded from the seed stock database."
   ]
  },
  {
   "cell_type": "code",
   "execution_count": 15,
   "metadata": {},
   "outputs": [
    {
     "name": "stdout",
     "output_type": "stream",
     "text": [
      "\n"
     ]
    }
   ],
   "source": [
    "path1 = './gene_information.tsv'\n",
    "Gene.load_from_file(path1)\n",
    "path2 = './seed_stock_data.tsv'\n",
    "SeedStock.load_from_file(path2)\n",
    "path3 = './cross_data.tsv'\n",
    "HybridCross.load_from_file(path3)\n",
    "puts ''"
   ]
  },
  {
   "cell_type": "markdown",
   "metadata": {},
   "source": [
    "### #linked_genes_check\n",
    "In this class we have the method linked_genes_check which checks if genes are linked, returns a list of the linked gene names and their chi values. \n",
    "\n",
    "For testing this method, I added more data to check it work for several linked genes."
   ]
  },
  {
   "cell_type": "code",
   "execution_count": 40,
   "metadata": {},
   "outputs": [
    {
     "name": "stdout",
     "output_type": "stream",
     "text": [
      "[[\"ufo\", \"pi\", 32.27942794279428], [\"ufo\", \"ex\", 30.74427694025684]]\n"
     ]
    }
   ],
   "source": [
    "puts HybridCross.linked_genes_check"
   ]
  },
  {
   "cell_type": "code",
   "execution_count": 44,
   "metadata": {},
   "outputs": [
    {
     "data": {
      "text/plain": [
       "#<HybridCross:0x00007fc3009be518 @parent1=#<SeedStock:0x00007fc3011c4208 @seed_stock=\"B52\", @mutant_gene_id=#<Gene:0x00007fc3011c5860 @gene_id=\"AT5G20240\", @gene_name=\"pi\", @mutant_phenotype=\"\\\"second whorl sepals, third whorl carpels\\\"\", @linked_genes=#<Gene:0x00007fc3011c5ba8 @gene_id=\"AT1G30950\", @gene_name=\"ufo\", @mutant_phenotype=\"\\\"second whorl sepaloidy, third whorl missing or carpeloid\\\"\", @linked_genes=#<Gene:0x00007fc3011c5540 @gene_id=\"AT0G00000\", @gene_name=\"ex\", @mutant_phenotype=\"\\\"example to test when more than two genes are linked\\\"\", @linked_genes=#<Gene:0x00007fc3011c5ba8 ...>>>>, @last_planted=\"8/11/2012\", @storage=\"cama16\", @grams_remaining=\"7\">, @parent2=#<SeedStock:0x00007fc3011c4eb0 @seed_stock=\"A334\", @mutant_gene_id=#<Gene:0x00007fc3011c66c0 @gene_id=\"AT1G69120\", @gene_name=\"ap1\", @mutant_phenotype=\"\\\"meristems replace first and second whorl\\\"\", @linked_genes=\"ap3\">, @last_planted=\"5/7/2014\", @storage=\"cama2\", @grams_remaining=\"28\">, @f2_wild=\"75\", @f2_p1=\"22\", @f2_p2=\"30\", @f2_p1p2=\"7\">"
      ]
     },
     "execution_count": 44,
     "metadata": {},
     "output_type": "execute_result"
    }
   ],
   "source": [
    "path3 = './cross_data.tsv'\n",
    "obj = HybridCross.load_from_file(path3)\n",
    "obj[4]"
   ]
  },
  {
   "cell_type": "code",
   "execution_count": null,
   "metadata": {},
   "outputs": [],
   "source": []
  }
 ],
 "metadata": {
  "kernelspec": {
   "display_name": "Ruby 2.6.3",
   "language": "ruby",
   "name": "ruby"
  },
  "language_info": {
   "file_extension": ".rb",
   "mimetype": "application/x-ruby",
   "name": "ruby",
   "version": "2.6.3"
  }
 },
 "nbformat": 4,
 "nbformat_minor": 2
}
